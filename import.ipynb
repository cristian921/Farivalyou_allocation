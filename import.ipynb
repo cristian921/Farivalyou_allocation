{
 "cells": [
  {
   "cell_type": "code",
   "execution_count": 1,
   "metadata": {},
   "outputs": [],
   "source": [
    "import os\n",
    "import re\n",
    "import pandas as pd\n",
    "import sqlite3"
   ]
  },
  {
   "cell_type": "code",
   "execution_count": 2,
   "metadata": {},
   "outputs": [],
   "source": [
    "conn = sqlite3.connect(\"db.sqlite3\")\n",
    "cur = conn.cursor()"
   ]
  },
  {
   "cell_type": "code",
   "execution_count": 4,
   "metadata": {},
   "outputs": [],
   "source": [
    "sql = ''' INSERT INTO allocation_asset(codec, name) VALUES(?,?)'''\n",
    "\n",
    "df = pd.read_csv(\"lista.csv\",delimiter=\";\")\n",
    "\n",
    "for index,row in df.iterrows():\n",
    "    objectiveAllocation_asset = (row[\"codice\"], row[\"asset\"])\n",
    "    cur.execute(sql,objectiveAllocation_asset)\n",
    "    #print cur.lastrowid\n",
    "conn.commit()"
   ]
  },
  {
   "cell_type": "code",
   "execution_count": 5,
   "metadata": {},
   "outputs": [],
   "source": [
    "sql = ''' INSERT INTO allocation_series(asset_id, date, price) VALUES(?,?,?)'''\n",
    "\n",
    "path = \"data/\"\n",
    "for fname in os.listdir(path):\n",
    "    if re.search(r'\\.csv$', fname):\n",
    "        name = fname.split(\"_\")[0].replace(\".csv\", \" \")\n",
    "        df = pd.read_csv(path+\"/\"+fname)\n",
    "        df.columns = [\"date\",\"price\"]\n",
    "        df[\"price\"] = df[\"price\"].apply(lambda x : round(x,3))\n",
    "        for index, row in df.iterrows():\n",
    "            objectiveAllocation_series = (name, row[\"date\"], row[\"price\"])\n",
    "            cur.execute(sql,objectiveAllocation_series)\n",
    "conn.commit()\n",
    "conn.close()"
   ]
  },
  {
   "cell_type": "code",
   "execution_count": null,
   "metadata": {},
   "outputs": [],
   "source": []
  }
 ],
 "metadata": {
  "kernelspec": {
   "display_name": "Python 2",
   "language": "python",
   "name": "python2"
  },
  "language_info": {
   "codemirror_mode": {
    "name": "ipython",
    "version": 2
   },
   "file_extension": ".py",
   "mimetype": "text/x-python",
   "name": "python",
   "nbconvert_exporter": "python",
   "pygments_lexer": "ipython2",
   "version": "2.7.15"
  }
 },
 "nbformat": 4,
 "nbformat_minor": 2
}
